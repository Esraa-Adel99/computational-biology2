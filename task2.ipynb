{
 "cells": [
  {
   "cell_type": "code",
   "execution_count": 1,
   "id": "e3b5cdb3",
   "metadata": {},
   "outputs": [],
   "source": [
    "import cobra"
   ]
  },
  {
   "cell_type": "code",
   "execution_count": 2,
   "id": "8a3454b4",
   "metadata": {},
   "outputs": [],
   "source": [
    "from cobra import Model,Reaction,Metabolite"
   ]
  },
  {
   "cell_type": "code",
   "execution_count": 3,
   "id": "b490dc3a",
   "metadata": {},
   "outputs": [],
   "source": [
    "model=Model('model')"
   ]
  },
  {
   "cell_type": "code",
   "execution_count": 4,
   "id": "d656e1b7",
   "metadata": {},
   "outputs": [],
   "source": [
    "x=Reaction('x')\n",
    "x.name='x'\n",
    "x.lower_bound=0\n",
    "x.upper_bound=1000"
   ]
  },
  {
   "cell_type": "code",
   "execution_count": 5,
   "id": "dc30925d",
   "metadata": {},
   "outputs": [],
   "source": [
    "y=Reaction('y')\n",
    "y.name='y'\n",
    "y.lower_bound=0\n",
    "y.upper_bound=1000"
   ]
  },
  {
   "cell_type": "code",
   "execution_count": 6,
   "id": "4c586a1c",
   "metadata": {},
   "outputs": [],
   "source": [
    "z=Reaction('z')\n",
    "z.name='z'\n",
    "z.lower_bound=0\n",
    "z.upper_bound=1000"
   ]
  },
  {
   "cell_type": "code",
   "execution_count": 7,
   "id": "d62e2cce",
   "metadata": {},
   "outputs": [],
   "source": [
    "k=Reaction('k')\n",
    "k.name='k'\n",
    "k.lower_bound=1\n",
    "k.upper_bound=1"
   ]
  },
  {
   "cell_type": "code",
   "execution_count": 8,
   "id": "d7b8bd79",
   "metadata": {},
   "outputs": [],
   "source": [
    "w=Reaction('w')\n",
    "w.name='w'\n",
    "w.lower_bound=.9\n",
    "w.upper_bound=.9"
   ]
  },
  {
   "cell_type": "code",
   "execution_count": 9,
   "id": "7a67cc7b",
   "metadata": {},
   "outputs": [],
   "source": [
    "h=Reaction('h')\n",
    "h.name='h'\n",
    "h.lower_bound=0\n",
    "h.upper_bound=1000"
   ]
  },
  {
   "cell_type": "code",
   "execution_count": 10,
   "id": "603e93b7",
   "metadata": {},
   "outputs": [],
   "source": [
    "A=Metabolite('A',compartment='c')\n",
    "B=Metabolite('B',compartment='c')\n",
    "C=Metabolite('C',compartment='c')\n",
    "ATP=Metabolite('ATP',compartment='c')"
   ]
  },
  {
   "cell_type": "code",
   "execution_count": 11,
   "id": "ee8b22b1",
   "metadata": {},
   "outputs": [],
   "source": [
    "x.add_metabolites({A:-1,B:1})"
   ]
  },
  {
   "cell_type": "code",
   "execution_count": 12,
   "id": "5482cded",
   "metadata": {},
   "outputs": [],
   "source": [
    "y.add_metabolites({B:-1,C:1})"
   ]
  },
  {
   "cell_type": "code",
   "execution_count": 13,
   "id": "95e704c3",
   "metadata": {},
   "outputs": [],
   "source": [
    "k.add_metabolites({A:1})"
   ]
  },
  {
   "cell_type": "code",
   "execution_count": 14,
   "id": "0830b1a7",
   "metadata": {},
   "outputs": [],
   "source": [
    "z.add_metabolites({C:-1})"
   ]
  },
  {
   "cell_type": "code",
   "execution_count": 15,
   "id": "92631c7c",
   "metadata": {},
   "outputs": [],
   "source": [
    "w.add_metabolites({A:-1,ATP:1})"
   ]
  },
  {
   "cell_type": "code",
   "execution_count": 16,
   "id": "1686dd34",
   "metadata": {},
   "outputs": [],
   "source": [
    "h.add_metabolites({ATP:-1})"
   ]
  },
  {
   "cell_type": "code",
   "execution_count": 17,
   "id": "011406df",
   "metadata": {},
   "outputs": [],
   "source": [
    "model.add_reactions([k,x,y,w,h,z])"
   ]
  },
  {
   "cell_type": "code",
   "execution_count": 18,
   "id": "5f94ed61",
   "metadata": {},
   "outputs": [],
   "source": [
    "model.objective='z'"
   ]
  },
  {
   "cell_type": "code",
   "execution_count": 19,
   "id": "cb8ab909",
   "metadata": {},
   "outputs": [
    {
     "data": {
      "text/html": [
       "<strong><em>Optimal</em> solution with objective value 0.100</strong><br><div>\n",
       "<style scoped>\n",
       "    .dataframe tbody tr th:only-of-type {\n",
       "        vertical-align: middle;\n",
       "    }\n",
       "\n",
       "    .dataframe tbody tr th {\n",
       "        vertical-align: top;\n",
       "    }\n",
       "\n",
       "    .dataframe thead th {\n",
       "        text-align: right;\n",
       "    }\n",
       "</style>\n",
       "<table border=\"1\" class=\"dataframe\">\n",
       "  <thead>\n",
       "    <tr style=\"text-align: right;\">\n",
       "      <th></th>\n",
       "      <th>fluxes</th>\n",
       "      <th>reduced_costs</th>\n",
       "    </tr>\n",
       "  </thead>\n",
       "  <tbody>\n",
       "    <tr>\n",
       "      <th>k</th>\n",
       "      <td>1.0</td>\n",
       "      <td>2.0</td>\n",
       "    </tr>\n",
       "    <tr>\n",
       "      <th>x</th>\n",
       "      <td>0.1</td>\n",
       "      <td>0.0</td>\n",
       "    </tr>\n",
       "    <tr>\n",
       "      <th>y</th>\n",
       "      <td>0.1</td>\n",
       "      <td>0.0</td>\n",
       "    </tr>\n",
       "    <tr>\n",
       "      <th>w</th>\n",
       "      <td>0.9</td>\n",
       "      <td>-2.0</td>\n",
       "    </tr>\n",
       "    <tr>\n",
       "      <th>h</th>\n",
       "      <td>0.9</td>\n",
       "      <td>0.0</td>\n",
       "    </tr>\n",
       "    <tr>\n",
       "      <th>z</th>\n",
       "      <td>0.1</td>\n",
       "      <td>0.0</td>\n",
       "    </tr>\n",
       "  </tbody>\n",
       "</table>\n",
       "</div>"
      ],
      "text/plain": [
       "<Solution 0.100 at 0x1c22cd1a670>"
      ]
     },
     "execution_count": 19,
     "metadata": {},
     "output_type": "execute_result"
    }
   ],
   "source": [
    "model.optimize()"
   ]
  },
  {
   "cell_type": "code",
   "execution_count": 20,
   "id": "239ca231",
   "metadata": {},
   "outputs": [
    {
     "data": {
      "text/html": [
       "<h3>Objective</h3><p>1.0 z = 0.09999999999999998</p><h4>Uptake</h4><table border=\"1\" class=\"dataframe\">\n",
       "  <thead>\n",
       "    <tr style=\"text-align: right;\">\n",
       "      <th>Metabolite</th>\n",
       "      <th>Reaction</th>\n",
       "      <th>Flux</th>\n",
       "      <th>C-Number</th>\n",
       "      <th>C-Flux</th>\n",
       "    </tr>\n",
       "  </thead>\n",
       "  <tbody>\n",
       "    <tr>\n",
       "      <td>A</td>\n",
       "      <td>k</td>\n",
       "      <td>1</td>\n",
       "      <td>0</td>\n",
       "      <td>0.00%</td>\n",
       "    </tr>\n",
       "  </tbody>\n",
       "</table><h4>Secretion</h4><table border=\"1\" class=\"dataframe\">\n",
       "  <thead>\n",
       "    <tr style=\"text-align: right;\">\n",
       "      <th>Metabolite</th>\n",
       "      <th>Reaction</th>\n",
       "      <th>Flux</th>\n",
       "      <th>C-Number</th>\n",
       "      <th>C-Flux</th>\n",
       "    </tr>\n",
       "  </thead>\n",
       "  <tbody>\n",
       "    <tr>\n",
       "      <td>ATP</td>\n",
       "      <td>h</td>\n",
       "      <td>-0.9</td>\n",
       "      <td>0</td>\n",
       "      <td>0.00%</td>\n",
       "    </tr>\n",
       "    <tr>\n",
       "      <td>C</td>\n",
       "      <td>z</td>\n",
       "      <td>-0.1</td>\n",
       "      <td>0</td>\n",
       "      <td>0.00%</td>\n",
       "    </tr>\n",
       "  </tbody>\n",
       "</table>"
      ],
      "text/plain": [
       "<cobra.summary.model_summary.ModelSummary at 0x1c22cd37760>"
      ]
     },
     "execution_count": 20,
     "metadata": {},
     "output_type": "execute_result"
    }
   ],
   "source": [
    "model.summary()"
   ]
  },
  {
   "cell_type": "code",
   "execution_count": 21,
   "id": "bbbcd63d",
   "metadata": {},
   "outputs": [],
   "source": [
    "cobra.io.save_json_model(model,\"test.json\")"
   ]
  },
  {
   "cell_type": "code",
   "execution_count": 22,
   "id": "878473b1",
   "metadata": {},
   "outputs": [],
   "source": [
    "import escher"
   ]
  },
  {
   "cell_type": "code",
   "execution_count": 23,
   "id": "44ada158",
   "metadata": {},
   "outputs": [],
   "source": [
    "from escher import Builder"
   ]
  },
  {
   "cell_type": "code",
   "execution_count": 24,
   "id": "2246d1c1",
   "metadata": {},
   "outputs": [
    {
     "data": {
      "text/html": [
       "\n",
       "        <table>\n",
       "            <tr>\n",
       "                <td><strong>Name</strong></td>\n",
       "                <td>model</td>\n",
       "            </tr><tr>\n",
       "                <td><strong>Memory address</strong></td>\n",
       "                <td>0x01c22cd37610</td>\n",
       "            </tr><tr>\n",
       "                <td><strong>Number of metabolites</strong></td>\n",
       "                <td>4</td>\n",
       "            </tr><tr>\n",
       "                <td><strong>Number of reactions</strong></td>\n",
       "                <td>6</td>\n",
       "            </tr><tr>\n",
       "                <td><strong>Number of groups</strong></td>\n",
       "                <td>0</td>\n",
       "            </tr><tr>\n",
       "                <td><strong>Objective expression</strong></td>\n",
       "                <td>1.0*z - 1.0*z_reverse_fbade</td>\n",
       "            </tr><tr>\n",
       "                <td><strong>Compartments</strong></td>\n",
       "                <td>c</td>\n",
       "            </tr>\n",
       "          </table>"
      ],
      "text/plain": [
       "<Model model at 0x1c22cd37610>"
      ]
     },
     "execution_count": 24,
     "metadata": {},
     "output_type": "execute_result"
    }
   ],
   "source": [
    "cobra.io.load_json_model(\"test.json\")"
   ]
  },
  {
   "cell_type": "code",
   "execution_count": 27,
   "id": "3be7aa0d",
   "metadata": {},
   "outputs": [],
   "source": [
    "builder=Builder(model_json=\"test.json\")"
   ]
  },
  {
   "cell_type": "code",
   "execution_count": 28,
   "id": "705a8519",
   "metadata": {},
   "outputs": [
    {
     "data": {
      "application/vnd.jupyter.widget-view+json": {
       "model_id": "a98e143230ea4d34baa0fb4447dee2e7",
       "version_major": 2,
       "version_minor": 0
      },
      "text/plain": [
       "Builder()"
      ]
     },
     "metadata": {},
     "output_type": "display_data"
    }
   ],
   "source": [
    "builder"
   ]
  },
  {
   "cell_type": "code",
   "execution_count": null,
   "id": "2debf2e1",
   "metadata": {},
   "outputs": [],
   "source": []
  }
 ],
 "metadata": {
  "kernelspec": {
   "display_name": "Python 3",
   "language": "python",
   "name": "python3"
  },
  "language_info": {
   "codemirror_mode": {
    "name": "ipython",
    "version": 3
   },
   "file_extension": ".py",
   "mimetype": "text/x-python",
   "name": "python",
   "nbconvert_exporter": "python",
   "pygments_lexer": "ipython3",
   "version": "3.8.8"
  }
 },
 "nbformat": 4,
 "nbformat_minor": 5
}
