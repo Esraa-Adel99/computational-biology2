{
 "cells": [
  {
   "cell_type": "code",
   "execution_count": 1,
   "id": "033065dc",
   "metadata": {},
   "outputs": [],
   "source": [
    "import cobra"
   ]
  },
  {
   "cell_type": "code",
   "execution_count": 2,
   "id": "1402e1c6",
   "metadata": {},
   "outputs": [],
   "source": [
    "from cobra import Model,Reaction,Metabolite"
   ]
  },
  {
   "cell_type": "code",
   "execution_count": 3,
   "id": "0bac18f0",
   "metadata": {},
   "outputs": [],
   "source": [
    "model=Model('task3')"
   ]
  },
  {
   "cell_type": "code",
   "execution_count": 4,
   "id": "c9701d71",
   "metadata": {},
   "outputs": [],
   "source": [
    "x=Reaction('x')\n",
    "x.name='x'\n",
    "x.lower_bound=1\n",
    "x.upper_bound=1"
   ]
  },
  {
   "cell_type": "code",
   "execution_count": 5,
   "id": "32ffafdc",
   "metadata": {},
   "outputs": [],
   "source": [
    "y=Reaction('y')\n",
    "y.name='y'\n",
    "y.lower_bound=0\n",
    "y.upper_bound=1000"
   ]
  },
  {
   "cell_type": "code",
   "execution_count": 6,
   "id": "e9b3159d",
   "metadata": {},
   "outputs": [],
   "source": [
    "z=Reaction('z')\n",
    "z.name='z'\n",
    "z.lower_bound=0\n",
    "z.upper_bound=1000"
   ]
  },
  {
   "cell_type": "code",
   "execution_count": 7,
   "id": "a9ed18f4",
   "metadata": {},
   "outputs": [],
   "source": [
    "w=Reaction('w')\n",
    "w.name='w'\n",
    "w.lower_bound=0\n",
    "w.upper_bound=1000"
   ]
  },
  {
   "cell_type": "code",
   "execution_count": 8,
   "id": "75993756",
   "metadata": {},
   "outputs": [],
   "source": [
    "glc=Metabolite('glc',compartment='c')\n",
    "AA=Metabolite('AA',compartment='c')\n",
    "Biomass=Metabolite('Biomass',compartment='c')"
   ]
  },
  {
   "cell_type": "code",
   "execution_count": 9,
   "id": "3087c7c1",
   "metadata": {},
   "outputs": [],
   "source": [
    "x.add_metabolites({glc:1})"
   ]
  },
  {
   "cell_type": "code",
   "execution_count": 10,
   "id": "53294ad8",
   "metadata": {},
   "outputs": [],
   "source": [
    "y.add_metabolites({glc:-1,AA:1})"
   ]
  },
  {
   "cell_type": "code",
   "execution_count": 11,
   "id": "df9fc958",
   "metadata": {},
   "outputs": [],
   "source": [
    "z.add_metabolites({AA:-9.09,Biomass:1})"
   ]
  },
  {
   "cell_type": "code",
   "execution_count": 12,
   "id": "0ca5fd47",
   "metadata": {},
   "outputs": [],
   "source": [
    "w.add_metabolites({Biomass:-1})"
   ]
  },
  {
   "cell_type": "code",
   "execution_count": 13,
   "id": "81ac453e",
   "metadata": {},
   "outputs": [],
   "source": [
    "model.add_reactions([x,y,z,w])"
   ]
  },
  {
   "cell_type": "code",
   "execution_count": 14,
   "id": "5dd1f4a7",
   "metadata": {},
   "outputs": [],
   "source": [
    "model.objective='w'"
   ]
  },
  {
   "cell_type": "code",
   "execution_count": 15,
   "id": "67eec72c",
   "metadata": {},
   "outputs": [
    {
     "data": {
      "text/html": [
       "<strong><em>Optimal</em> solution with objective value 0.110</strong><br><div>\n",
       "<style scoped>\n",
       "    .dataframe tbody tr th:only-of-type {\n",
       "        vertical-align: middle;\n",
       "    }\n",
       "\n",
       "    .dataframe tbody tr th {\n",
       "        vertical-align: top;\n",
       "    }\n",
       "\n",
       "    .dataframe thead th {\n",
       "        text-align: right;\n",
       "    }\n",
       "</style>\n",
       "<table border=\"1\" class=\"dataframe\">\n",
       "  <thead>\n",
       "    <tr style=\"text-align: right;\">\n",
       "      <th></th>\n",
       "      <th>fluxes</th>\n",
       "      <th>reduced_costs</th>\n",
       "    </tr>\n",
       "  </thead>\n",
       "  <tbody>\n",
       "    <tr>\n",
       "      <th>x</th>\n",
       "      <td>1.000000</td>\n",
       "      <td>0.220022</td>\n",
       "    </tr>\n",
       "    <tr>\n",
       "      <th>y</th>\n",
       "      <td>1.000000</td>\n",
       "      <td>0.000000</td>\n",
       "    </tr>\n",
       "    <tr>\n",
       "      <th>z</th>\n",
       "      <td>0.110011</td>\n",
       "      <td>0.000000</td>\n",
       "    </tr>\n",
       "    <tr>\n",
       "      <th>w</th>\n",
       "      <td>0.110011</td>\n",
       "      <td>0.000000</td>\n",
       "    </tr>\n",
       "  </tbody>\n",
       "</table>\n",
       "</div>"
      ],
      "text/plain": [
       "<Solution 0.110 at 0x1c41af58610>"
      ]
     },
     "execution_count": 15,
     "metadata": {},
     "output_type": "execute_result"
    }
   ],
   "source": [
    "model.optimize()"
   ]
  },
  {
   "cell_type": "code",
   "execution_count": 16,
   "id": "a8b3fc6b",
   "metadata": {},
   "outputs": [
    {
     "data": {
      "text/html": [
       "<h3>Objective</h3><p>1.0 w = 0.11001100110011001</p><h4>Uptake</h4><table border=\"1\" class=\"dataframe\">\n",
       "  <thead>\n",
       "    <tr style=\"text-align: right;\">\n",
       "      <th>Metabolite</th>\n",
       "      <th>Reaction</th>\n",
       "      <th>Flux</th>\n",
       "      <th>C-Number</th>\n",
       "      <th>C-Flux</th>\n",
       "    </tr>\n",
       "  </thead>\n",
       "  <tbody>\n",
       "    <tr>\n",
       "      <td>glc</td>\n",
       "      <td>x</td>\n",
       "      <td>1</td>\n",
       "      <td>0</td>\n",
       "      <td>0.00%</td>\n",
       "    </tr>\n",
       "  </tbody>\n",
       "</table><h4>Secretion</h4><table border=\"1\" class=\"dataframe\">\n",
       "  <thead>\n",
       "    <tr style=\"text-align: right;\">\n",
       "      <th>Metabolite</th>\n",
       "      <th>Reaction</th>\n",
       "      <th>Flux</th>\n",
       "      <th>C-Number</th>\n",
       "      <th>C-Flux</th>\n",
       "    </tr>\n",
       "  </thead>\n",
       "  <tbody>\n",
       "    <tr>\n",
       "      <td>Biomass</td>\n",
       "      <td>w</td>\n",
       "      <td>-0.11</td>\n",
       "      <td>0</td>\n",
       "      <td>0.00%</td>\n",
       "    </tr>\n",
       "  </tbody>\n",
       "</table>"
      ],
      "text/plain": [
       "<cobra.summary.model_summary.ModelSummary at 0x1c41af7c220>"
      ]
     },
     "execution_count": 16,
     "metadata": {},
     "output_type": "execute_result"
    }
   ],
   "source": [
    "model.summary()"
   ]
  },
  {
   "cell_type": "code",
   "execution_count": 17,
   "id": "2a4502ae",
   "metadata": {},
   "outputs": [],
   "source": [
    "cobra.io.save_json_model(model,\"test2.json\")"
   ]
  },
  {
   "cell_type": "code",
   "execution_count": 18,
   "id": "d15c8c6d",
   "metadata": {},
   "outputs": [],
   "source": [
    "import escher"
   ]
  },
  {
   "cell_type": "code",
   "execution_count": 19,
   "id": "c52fb89e",
   "metadata": {},
   "outputs": [],
   "source": [
    "from escher import Builder"
   ]
  },
  {
   "cell_type": "code",
   "execution_count": 20,
   "id": "ce0620ed",
   "metadata": {},
   "outputs": [],
   "source": [
    "builder=Builder(model_json=\"test2.json\")"
   ]
  },
  {
   "cell_type": "code",
   "execution_count": 21,
   "id": "58922315",
   "metadata": {},
   "outputs": [
    {
     "data": {
      "application/vnd.jupyter.widget-view+json": {
       "model_id": "cc1bbc48d8034c3ba8ba11078cc14aac",
       "version_major": 2,
       "version_minor": 0
      },
      "text/plain": [
       "Builder()"
      ]
     },
     "metadata": {},
     "output_type": "display_data"
    }
   ],
   "source": [
    "builder"
   ]
  },
  {
   "cell_type": "code",
   "execution_count": null,
   "id": "beee5301",
   "metadata": {},
   "outputs": [],
   "source": []
  }
 ],
 "metadata": {
  "kernelspec": {
   "display_name": "Python 3",
   "language": "python",
   "name": "python3"
  },
  "language_info": {
   "codemirror_mode": {
    "name": "ipython",
    "version": 3
   },
   "file_extension": ".py",
   "mimetype": "text/x-python",
   "name": "python",
   "nbconvert_exporter": "python",
   "pygments_lexer": "ipython3",
   "version": "3.8.8"
  }
 },
 "nbformat": 4,
 "nbformat_minor": 5
}
